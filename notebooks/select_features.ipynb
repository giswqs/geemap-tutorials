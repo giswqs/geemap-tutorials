{
 "cells": [
  {
   "cell_type": "markdown",
   "metadata": {},
   "source": [
    "<a href=\"https://githubtocolab.com/giswqs/geemap/blob/master/examples/notebooks/select_features.ipynb\" target=\"_parent\"><img src=\"https://colab.research.google.com/assets/colab-badge.svg\" alt=\"Open in Colab\"/></a>\n",
    "\n",
    "Uncomment the following line to install [geemap](https://geemap.org) if needed."
   ]
  },
  {
   "cell_type": "code",
   "execution_count": null,
   "metadata": {},
   "outputs": [],
   "source": [
    "# !pip install geemap"
   ]
  },
  {
   "cell_type": "markdown",
   "metadata": {},
   "source": [
    "# How to select features by location and attribute?"
   ]
  },
  {
   "cell_type": "markdown",
   "metadata": {
    "toc": true
   },
   "source": [
    "<h1>Contents<span class=\"tocSkip\"></span></h1>\n",
    "<div class=\"toc\"><ul class=\"toc-item\"><li><span><a href=\"#Install-geemap\" data-toc-modified-id=\"Install-geemap-1\"><span class=\"toc-item-num\">1&nbsp;&nbsp;</span>Install geemap</a></span></li><li><span><a href=\"#Create-an-interactive-map\" data-toc-modified-id=\"Create-an-interactive-map-2\"><span class=\"toc-item-num\">2&nbsp;&nbsp;</span>Create an interactive map</a></span></li><li><span><a href=\"#Add-data-to-the-map\" data-toc-modified-id=\"Add-data-to-the-map-3\"><span class=\"toc-item-num\">3&nbsp;&nbsp;</span>Add data to the map</a></span></li><li><span><a href=\"#TIGER:-US-Census-States\" data-toc-modified-id=\"TIGER:-US-Census-States-4\"><span class=\"toc-item-num\">4&nbsp;&nbsp;</span>TIGER: US Census States</a></span><ul class=\"toc-item\"><li><span><a href=\"#Displaying-data\" data-toc-modified-id=\"Displaying-data-4.1\"><span class=\"toc-item-num\">4.1&nbsp;&nbsp;</span>Displaying data</a></span></li><li><span><a href=\"#Dispalying-vector-as-raster\" data-toc-modified-id=\"Dispalying-vector-as-raster-4.2\"><span class=\"toc-item-num\">4.2&nbsp;&nbsp;</span>Dispalying vector as raster</a></span></li><li><span><a href=\"#Select-by-attribute\" data-toc-modified-id=\"Select-by-attribute-4.3\"><span class=\"toc-item-num\">4.3&nbsp;&nbsp;</span>Select by attribute</a></span><ul class=\"toc-item\"><li><span><a href=\"#Select-one-single-state\" data-toc-modified-id=\"Select-one-single-state-4.3.1\"><span class=\"toc-item-num\">4.3.1&nbsp;&nbsp;</span>Select one single state</a></span></li><li><span><a href=\"#Select-multiple-states\" data-toc-modified-id=\"Select-multiple-states-4.3.2\"><span class=\"toc-item-num\">4.3.2&nbsp;&nbsp;</span>Select multiple states</a></span></li><li><span><a href=\"#Printing-all-values-of-a-column\" data-toc-modified-id=\"Printing-all-values-of-a-column-4.3.3\"><span class=\"toc-item-num\">4.3.3&nbsp;&nbsp;</span>Printing all values of a column</a></span></li><li><span><a href=\"#Discriptive-statistics-of-a-column\" data-toc-modified-id=\"Discriptive-statistics-of-a-column-4.3.4\"><span class=\"toc-item-num\">4.3.4&nbsp;&nbsp;</span>Discriptive statistics of a column</a></span></li><li><span><a href=\"#Add-a-new-column-to-the-attribute-table\" data-toc-modified-id=\"Add-a-new-column-to-the-attribute-table-4.3.5\"><span class=\"toc-item-num\">4.3.5&nbsp;&nbsp;</span>Add a new column to the attribute table</a></span></li><li><span><a href=\"#Set-symbology-based-on-column--values\" data-toc-modified-id=\"Set-symbology-based-on-column--values-4.3.6\"><span class=\"toc-item-num\">4.3.6&nbsp;&nbsp;</span>Set symbology based on column  values</a></span></li><li><span><a href=\"#Download-attribute-table-as-a-CSV\" data-toc-modified-id=\"Download-attribute-table-as-a-CSV-4.3.7\"><span class=\"toc-item-num\">4.3.7&nbsp;&nbsp;</span>Download attribute table as a CSV</a></span></li><li><span><a href=\"#Formatting-the-output\" data-toc-modified-id=\"Formatting-the-output-4.3.8\"><span class=\"toc-item-num\">4.3.8&nbsp;&nbsp;</span>Formatting the output</a></span></li><li><span><a href=\"#Download-data-as-shapefile-to-Google-Drive\" data-toc-modified-id=\"Download-data-as-shapefile-to-Google-Drive-4.3.9\"><span class=\"toc-item-num\">4.3.9&nbsp;&nbsp;</span>Download data as shapefile to Google Drive</a></span></li></ul></li></ul></li><li><span><a href=\"#TIGER:-US-Census-Blocks\" data-toc-modified-id=\"TIGER:-US-Census-Blocks-5\"><span class=\"toc-item-num\">5&nbsp;&nbsp;</span>TIGER: US Census Blocks</a></span></li><li><span><a href=\"#TIGER:-US-Census-Counties-2018\" data-toc-modified-id=\"TIGER:-US-Census-Counties-2018-6\"><span class=\"toc-item-num\">6&nbsp;&nbsp;</span>TIGER: US Census Counties 2018</a></span></li><li><span><a href=\"#TIGER:-US-Census-Tracts\" data-toc-modified-id=\"TIGER:-US-Census-Tracts-7\"><span class=\"toc-item-num\">7&nbsp;&nbsp;</span>TIGER: US Census Tracts</a></span></li><li><span><a href=\"#TIGER:-US-Census-Roads\" data-toc-modified-id=\"TIGER:-US-Census-Roads-8\"><span class=\"toc-item-num\">8&nbsp;&nbsp;</span>TIGER: US Census Roads</a></span></li></ul></div>"
   ]
  },
  {
   "cell_type": "markdown",
   "metadata": {},
   "source": [
    "## Install geemap\n",
    "\n",
    "To follow this tutorial, you need to install the [geemap](https://github.com/giswqs/geemap) Python package.  You can use the following conda comands to install geemap.\n",
    "\n",
    "```\n",
    "conda create -n gee python=3.7\n",
    "conda activate gee\n",
    "conda install mamba -c conda-forge\n",
    "mamba install geemap -c conda-forge\n",
    "```"
   ]
  },
  {
   "cell_type": "markdown",
   "metadata": {},
   "source": [
    "## Create an interactive map"
   ]
  },
  {
   "cell_type": "code",
   "execution_count": null,
   "metadata": {},
   "outputs": [],
   "source": [
    "import ee\n",
    "import geemap"
   ]
  },
  {
   "cell_type": "code",
   "execution_count": null,
   "metadata": {
    "scrolled": true
   },
   "outputs": [],
   "source": [
    "Map = geemap.Map(center=[40, -100], zoom=4)\n",
    "Map"
   ]
  },
  {
   "cell_type": "markdown",
   "metadata": {},
   "source": [
    "## Add data to the map\n",
    "\n",
    "If you have shapefiles on your computer, you can load shapefiles onto the map using the following script. Note that this will work with small shapefiles. If you shapefiles have complicated geometries and numerous verticies, they might exceed the direct upload limit. In that case, you will have to ingest shapefiles to your GEE account. See instructions [here](https://developers.google.com/earth-engine/importing).   "
   ]
  },
  {
   "cell_type": "code",
   "execution_count": null,
   "metadata": {},
   "outputs": [],
   "source": [
    "shp_path = '../data/us-states.shp'\n",
    "states_shp = geemap.shp_to_ee(shp_path)\n",
    "Map.addLayer(states_shp, {}, 'US States SHP')"
   ]
  },
  {
   "cell_type": "code",
   "execution_count": null,
   "metadata": {},
   "outputs": [],
   "source": [
    "layer = Map.find_layer('US States SHP')"
   ]
  },
  {
   "cell_type": "code",
   "execution_count": null,
   "metadata": {},
   "outputs": [],
   "source": [
    "print(layer)"
   ]
  },
  {
   "cell_type": "code",
   "execution_count": null,
   "metadata": {},
   "outputs": [],
   "source": [
    "# Map.remove_layer(layer)"
   ]
  },
  {
   "cell_type": "code",
   "execution_count": null,
   "metadata": {},
   "outputs": [],
   "source": [
    "layer.interact(opacity=(0.0,1.0,0.1))"
   ]
  },
  {
   "cell_type": "code",
   "execution_count": null,
   "metadata": {},
   "outputs": [],
   "source": [
    "del layer"
   ]
  },
  {
   "cell_type": "code",
   "execution_count": null,
   "metadata": {},
   "outputs": [],
   "source": [
    "Map.add_layer(layer)"
   ]
  },
  {
   "cell_type": "markdown",
   "metadata": {},
   "source": [
    "Let's remove the layer"
   ]
  },
  {
   "cell_type": "code",
   "execution_count": null,
   "metadata": {},
   "outputs": [],
   "source": [
    "Map.remove_layer(Map.layers[-1])"
   ]
  },
  {
   "cell_type": "markdown",
   "metadata": {},
   "source": [
    "You can also directly load a FeatureCollection from the Earth Engine Data Catalog or your GEE account. For example:"
   ]
  },
  {
   "cell_type": "code",
   "execution_count": null,
   "metadata": {},
   "outputs": [],
   "source": [
    "Map.layers"
   ]
  },
  {
   "cell_type": "code",
   "execution_count": null,
   "metadata": {},
   "outputs": [],
   "source": [
    "states = ee.FeatureCollection('TIGER/2018/States')\n",
    "Map.addLayer(states, {}, \"TIGER/2018/States\")"
   ]
  },
  {
   "cell_type": "code",
   "execution_count": null,
   "metadata": {},
   "outputs": [],
   "source": [
    "Map.ee_layer_dict"
   ]
  },
  {
   "cell_type": "markdown",
   "metadata": {},
   "source": [
    "## TIGER: US Census States\n",
    "\n",
    "https://developers.google.com/earth-engine/datasets/catalog/TIGER_2018_States\n",
    "\n",
    "![](https://i.imgur.com/DAESBK4.png)\n",
    "\n",
    "### Displaying data"
   ]
  },
  {
   "cell_type": "code",
   "execution_count": null,
   "metadata": {},
   "outputs": [],
   "source": [
    "Map = emap.Map(center=[40, -100], zoom=4)\n",
    "\n",
    "states = ee.FeatureCollection('TIGER/2018/States')\n",
    "\n",
    "Map.centerObject(states, 4)\n",
    "Map.addLayer(states, {}, 'US States')\n",
    "\n",
    "Map.addLayerControl()  #This line is not needed for ipyleaflet-based Map\n",
    "Map"
   ]
  },
  {
   "cell_type": "markdown",
   "metadata": {},
   "source": [
    "### Dispalying vector as raster"
   ]
  },
  {
   "cell_type": "code",
   "execution_count": null,
   "metadata": {},
   "outputs": [],
   "source": [
    "Map = emap.Map(center=[40, -100], zoom=4)\n",
    "\n",
    "states = ee.FeatureCollection('TIGER/2018/States')\n",
    "image = ee.Image().paint(states, 0, 2)\n",
    "\n",
    "Map.centerObject(states, 4)\n",
    "Map.addLayer(image, {}, 'US States')\n",
    "\n",
    "Map.addLayerControl()\n",
    "Map"
   ]
  },
  {
   "cell_type": "markdown",
   "metadata": {},
   "source": [
    "### Select by attribute\n",
    "\n",
    "#### Select one single state"
   ]
  },
  {
   "cell_type": "code",
   "execution_count": null,
   "metadata": {},
   "outputs": [],
   "source": [
    "Map = emap.Map(center=[40, -100], zoom=4)\n",
    "\n",
    "tn = ee.FeatureCollection('TIGER/2018/States') \\\n",
    "    .filter(ee.Filter.eq(\"NAME\", 'Tennessee')) \n",
    "\n",
    "Map.centerObject(tn, 6)\n",
    "Map.addLayer(tn, {}, 'Tennessee')\n",
    "\n",
    "Map.addLayerControl()\n",
    "Map"
   ]
  },
  {
   "cell_type": "code",
   "execution_count": null,
   "metadata": {},
   "outputs": [],
   "source": [
    "tn = ee.FeatureCollection('TIGER/2018/States') \\\n",
    "    .filter(ee.Filter.eq(\"NAME\", 'Tennessee')) \\\n",
    "    .first()\n",
    "\n",
    "props = tn.toDictionary().getInfo()\n",
    "print(props)"
   ]
  },
  {
   "cell_type": "markdown",
   "metadata": {},
   "source": [
    "#### Select multiple states"
   ]
  },
  {
   "cell_type": "code",
   "execution_count": null,
   "metadata": {
    "scrolled": true
   },
   "outputs": [],
   "source": [
    "Map = emap.Map(center=[40, -100], zoom=4)\n",
    "\n",
    "selected = ee.FeatureCollection('TIGER/2018/States') \\\n",
    "    .filter(ee.Filter.inList(\"NAME\", ['Tennessee', 'Alabama', 'Georgia']))\n",
    "\n",
    "Map.centerObject(selected, 6)\n",
    "Map.addLayer(selected, {}, 'Selected states')\n",
    "\n",
    "Map.addLayerControl()\n",
    "Map"
   ]
  },
  {
   "cell_type": "markdown",
   "metadata": {},
   "source": [
    "#### Printing all values of a column"
   ]
  },
  {
   "cell_type": "code",
   "execution_count": null,
   "metadata": {},
   "outputs": [],
   "source": [
    "states = ee.FeatureCollection('TIGER/2018/States').sort('ALAND', False)\n",
    "names = states.aggregate_array(\"STUSPS\").getInfo()\n",
    "print(names)"
   ]
  },
  {
   "cell_type": "code",
   "execution_count": null,
   "metadata": {},
   "outputs": [],
   "source": [
    "areas = states.aggregate_array(\"ALAND\").getInfo()\n",
    "print(areas)"
   ]
  },
  {
   "cell_type": "code",
   "execution_count": null,
   "metadata": {},
   "outputs": [],
   "source": [
    "import matplotlib.pyplot as plt\n",
    "%matplotlib notebook"
   ]
  },
  {
   "cell_type": "code",
   "execution_count": null,
   "metadata": {},
   "outputs": [],
   "source": [
    "plt.bar(names, areas)\n",
    "plt.show()"
   ]
  },
  {
   "cell_type": "markdown",
   "metadata": {},
   "source": [
    "#### Discriptive statistics of a column\n",
    "\n",
    "For example, we can calcualte the total land area of all states:"
   ]
  },
  {
   "cell_type": "code",
   "execution_count": null,
   "metadata": {},
   "outputs": [],
   "source": [
    "states = ee.FeatureCollection('TIGER/2018/States')\n",
    "area_m2 = states.aggregate_sum(\"ALAND\").getInfo()\n",
    "area_km2 = area_m2 / 1000000\n",
    "print(\"Total land area: \", area_km2, \" km2\")"
   ]
  },
  {
   "cell_type": "code",
   "execution_count": null,
   "metadata": {},
   "outputs": [],
   "source": [
    "states = ee.FeatureCollection('TIGER/2018/States')\n",
    "stats = states.aggregate_stats(\"ALAND\").getInfo()\n",
    "print(stats)"
   ]
  },
  {
   "cell_type": "markdown",
   "metadata": {},
   "source": [
    "#### Add a new column to the attribute table"
   ]
  },
  {
   "cell_type": "code",
   "execution_count": null,
   "metadata": {},
   "outputs": [],
   "source": [
    "states = ee.FeatureCollection('TIGER/2018/States').sort('ALAND', False)\n",
    "states = states.map(lambda x: x.set('AreaKm2', x.area().divide(1000000).toLong()))\n",
    "first = states.first().toDictionary().getInfo()\n",
    "print(first)"
   ]
  },
  {
   "cell_type": "markdown",
   "metadata": {},
   "source": [
    "#### Set symbology based on column  values"
   ]
  },
  {
   "cell_type": "code",
   "execution_count": null,
   "metadata": {},
   "outputs": [],
   "source": [
    "Map = emap.Map(center=[40, -100], zoom=4)\n",
    "\n",
    "states = ee.FeatureCollection('TIGER/2018/States')\n",
    "\n",
    "visParams = {\n",
    "  'palette': ['purple', 'blue', 'green', 'yellow', 'orange', 'red'],\n",
    "  'min': 500000000.0,\n",
    "  'max': 5e+11,\n",
    "  'opacity': 0.8,\n",
    "}\n",
    "\n",
    "image = ee.Image().float().paint(states, 'ALAND')\n",
    "Map.addLayer(image, visParams, 'TIGER/2018/States')\n",
    "\n",
    "Map.addLayerControl()\n",
    "Map"
   ]
  },
  {
   "cell_type": "markdown",
   "metadata": {},
   "source": [
    "#### Download attribute table as a CSV"
   ]
  },
  {
   "cell_type": "code",
   "execution_count": null,
   "metadata": {},
   "outputs": [],
   "source": [
    "states = ee.FeatureCollection('TIGER/2018/States')\n",
    "url = states.getDownloadURL(filetype=\"csv\", selectors=['NAME', 'ALAND', 'REGION', 'STATEFP', 'STUSPS'], filename=\"states\")\n",
    "print(url)"
   ]
  },
  {
   "cell_type": "markdown",
   "metadata": {},
   "source": [
    "#### Formatting the output"
   ]
  },
  {
   "cell_type": "code",
   "execution_count": null,
   "metadata": {},
   "outputs": [],
   "source": [
    "first = states.first()\n",
    "props = first.propertyNames().getInfo()\n",
    "print(props)\n",
    "props = states.first().toDictionary(props).getInfo()\n",
    "print(props)\n",
    "\n",
    "for key, value in props.items():\n",
    "    print(\"{}: {}\".format(key, value))"
   ]
  },
  {
   "cell_type": "markdown",
   "metadata": {},
   "source": [
    "#### Download data as shapefile to Google Drive"
   ]
  },
  {
   "cell_type": "code",
   "execution_count": null,
   "metadata": {},
   "outputs": [],
   "source": [
    "# function for converting GeometryCollection to Polygon/MultiPolygon\n",
    "def filter_polygons(ftr):\n",
    "    geometries = ftr.geometry().geometries()\n",
    "    geometries = geometries.map(lambda geo: ee.Feature( ee.Geometry(geo)).set('geoType',  ee.Geometry(geo).type()))\n",
    "\n",
    "    polygons = ee.FeatureCollection(geometries).filter(ee.Filter.eq('geoType', 'Polygon')).geometry()\n",
    "    return ee.Feature(polygons).copyProperties(ftr)\n",
    "\n",
    "states = ee.FeatureCollection('TIGER/2018/States')\n",
    "new_states = states.map(filter_polygons)\n",
    "\n",
    "col_names = states.first().propertyNames().getInfo()\n",
    "print(\"Column names: \", col_names)\n",
    "\n",
    "url = new_states.getDownloadURL(\"shp\", col_names, 'states');\n",
    "print(url)\n",
    "\n",
    "desc = 'states'\n",
    "\n",
    "# Set configration parameters for output vector\n",
    "task_config = {\n",
    "    'folder': 'gee-data', # output Google Drive folder\n",
    "    'fileFormat': 'SHP',  \n",
    "    'selectors': col_names # a list of properties/attributes to be exported\n",
    "    }\n",
    "\n",
    "print('Exporting {}'.format(desc))\n",
    "task = ee.batch.Export.table.toDrive(new_states, desc, **task_config)\n",
    "task.start()"
   ]
  },
  {
   "cell_type": "markdown",
   "metadata": {},
   "source": [
    "## TIGER: US Census Blocks\n",
    "\n",
    "https://developers.google.com/earth-engine/datasets/catalog/TIGER_2010_Blocks\n",
    "\n",
    "![](https://i.imgur.com/KTQqb8v.png)"
   ]
  },
  {
   "cell_type": "code",
   "execution_count": null,
   "metadata": {},
   "outputs": [],
   "source": [
    "Map = emap.Map(center=[40, -100], zoom=4)\n",
    "\n",
    "dataset = ee.FeatureCollection('TIGER/2010/Blocks') \\\n",
    "    .filter(ee.Filter.eq('statefp10', '47'))\n",
    "    \n",
    "pop = dataset.aggregate_sum('pop10')\n",
    "    \n",
    "print(\"The number of census blocks: \", dataset.size().getInfo())\n",
    "print(\"Total population: \", pop.getInfo())\n",
    "    \n",
    "Map.setCenter(-86.79, 35.87, 6)   \n",
    "Map.addLayer(dataset, {}, \"Census Block\", False)\n",
    "    \n",
    "visParams = {\n",
    "  'min': 0.0,\n",
    "  'max': 700.0,\n",
    "  'palette': ['black', 'brown', 'yellow', 'orange', 'red']\n",
    "}\n",
    "\n",
    "image = ee.Image().float().paint(dataset, 'pop10')\n",
    "\n",
    "Map.setCenter(-73.99172, 40.74101, 13)\n",
    "Map.addLayer(image, visParams, 'TIGER/2010/Blocks')\n",
    "\n",
    "Map.addLayerControl()\n",
    "Map"
   ]
  },
  {
   "cell_type": "markdown",
   "metadata": {},
   "source": [
    "## TIGER: US Census Counties 2018\n",
    "\n",
    "https://developers.google.com/earth-engine/datasets/catalog/TIGER_2018_Counties\n",
    "\n",
    "![](https://i.imgur.com/K3j99eA.png)"
   ]
  },
  {
   "cell_type": "code",
   "execution_count": null,
   "metadata": {},
   "outputs": [],
   "source": [
    "Map = emap.Map(center=[40, -100], zoom=4)\n",
    "\n",
    "Map.setCenter(-110, 40, 5)\n",
    "states = ee.FeatureCollection('TIGER/2018/States') \n",
    "#     .filter(ee.Filter.eq('STUSPS', 'TN'))\n",
    "# // Turn the strings into numbers\n",
    "states = states.map(lambda f: f.set('STATEFP', ee.Number.parse(f.get('STATEFP'))))\n",
    "\n",
    "state_image = ee.Image().float().paint(states, 'STATEFP')\n",
    "\n",
    "visParams = {\n",
    "  'palette': ['purple', 'blue', 'green', 'yellow', 'orange', 'red'],\n",
    "  'min': 0,\n",
    "  'max': 50,\n",
    "  'opacity': 0.8,\n",
    "};\n",
    "\n",
    "counties = ee.FeatureCollection('TIGER/2016/Counties')  \n",
    "# print(counties.first().propertyNames().getInfo())\n",
    "\n",
    "image = ee.Image().paint(states, 0, 2)\n",
    "# Map.setCenter(-99.844, 37.649, 4)\n",
    "# Map.addLayer(image, {'palette': 'FF0000'}, 'TIGER/2018/States')\n",
    "Map.addLayer(state_image, visParams, 'TIGER/2016/States');\n",
    "Map.addLayer(ee.Image().paint(counties, 0, 1), {}, 'TIGER/2016/Counties')\n",
    "\n",
    "Map.addLayerControl()\n",
    "Map"
   ]
  },
  {
   "cell_type": "markdown",
   "metadata": {},
   "source": [
    "## TIGER: US Census Tracts\n",
    "\n",
    "https://developers.google.com/earth-engine/datasets/catalog/TIGER_2010_Tracts_DP1\n",
    "\n",
    "http://magic.lib.uconn.edu/magic_2/vector/37800/demogprofilehousect_37800_0000_2010_s100_census_1_t.htm\n",
    "\n",
    "![](https://i.imgur.com/WV2XA9b.png)"
   ]
  },
  {
   "cell_type": "code",
   "execution_count": null,
   "metadata": {},
   "outputs": [],
   "source": [
    "Map = emap.Map(center=[40, -100], zoom=4)\n",
    "\n",
    "dataset = ee.FeatureCollection('TIGER/2010/Tracts_DP1')\n",
    "visParams = {\n",
    "  'min': 0,\n",
    "  'max': 4000,\n",
    "  'opacity': 0.8,\n",
    "   'palette': ['#ece7f2', '#d0d1e6', '#a6bddb', '#74a9cf', '#3690c0', '#0570b0', '#045a8d', '#023858']\n",
    "}\n",
    "\n",
    "# print(dataset.first().propertyNames().getInfo())\n",
    "\n",
    "# Turn the strings into numbers\n",
    "dataset = dataset.map(lambda f: f.set('shape_area', ee.Number.parse(f.get('dp0010001'))))\n",
    "\n",
    "# Map.setCenter(-103.882, 43.036, 8)\n",
    "image = ee.Image().float().paint(dataset, 'dp0010001')\n",
    "\n",
    "Map.addLayer(image, visParams, 'TIGER/2010/Tracts_DP1')\n",
    "\n",
    "Map.addLayerControl()\n",
    "Map"
   ]
  },
  {
   "cell_type": "markdown",
   "metadata": {},
   "source": [
    "## TIGER: US Census Roads\n",
    "\n",
    "https://developers.google.com/earth-engine/datasets/catalog/TIGER_2016_Roads\n",
    "\n",
    "![](https://i.imgur.com/mguD0IQ.png)"
   ]
  },
  {
   "cell_type": "code",
   "execution_count": null,
   "metadata": {},
   "outputs": [],
   "source": [
    "Map = emap.Map(center=[40, -100], zoom=4)\n",
    "\n",
    "fc = ee.FeatureCollection('TIGER/2016/Roads')\n",
    "Map.setCenter(-73.9596, 40.7688, 12)\n",
    "Map.addLayer(fc, {}, 'Census roads')\n",
    "\n",
    "Map.addLayerControl()\n",
    "Map"
   ]
  },
  {
   "cell_type": "code",
   "execution_count": null,
   "metadata": {},
   "outputs": [],
   "source": []
  }
 ],
 "metadata": {
  "anaconda-cloud": {},
  "hide_input": false,
  "kernelspec": {
   "display_name": "Python 3",
   "language": "python",
   "name": "python3"
  },
  "language_info": {
   "codemirror_mode": {
    "name": "ipython",
    "version": 3
   },
   "file_extension": ".py",
   "mimetype": "text/x-python",
   "name": "python",
   "nbconvert_exporter": "python",
   "pygments_lexer": "ipython3",
   "version": "3.8.5"
  },
  "toc": {
   "base_numbering": 1,
   "nav_menu": {},
   "number_sections": true,
   "sideBar": true,
   "skip_h1_title": true,
   "title_cell": "Contents",
   "title_sidebar": "Table of Contents",
   "toc_cell": true,
   "toc_position": {},
   "toc_section_display": true,
   "toc_window_display": true
  },
  "varInspector": {
   "cols": {
    "lenName": 16,
    "lenType": 16,
    "lenVar": 40
   },
   "kernels_config": {
    "python": {
     "delete_cmd_postfix": "",
     "delete_cmd_prefix": "del ",
     "library": "var_list.py",
     "varRefreshCmd": "print(var_dic_list())"
    },
    "r": {
     "delete_cmd_postfix": ") ",
     "delete_cmd_prefix": "rm(",
     "library": "var_list.r",
     "varRefreshCmd": "cat(var_dic_list()) "
    }
   },
   "position": {
    "height": "278px",
    "left": "1550px",
    "right": "20px",
    "top": "120px",
    "width": "350px"
   },
   "types_to_exclude": [
    "module",
    "function",
    "builtin_function_or_method",
    "instance",
    "_Feature"
   ],
   "window_display": false
  }
 },
 "nbformat": 4,
 "nbformat_minor": 4
}
