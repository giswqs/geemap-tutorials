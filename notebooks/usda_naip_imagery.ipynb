{
 "cells": [
  {
   "cell_type": "markdown",
   "metadata": {},
   "source": [
    "<a href=\"https://githubtocolab.com/giswqs/geemap/blob/master/examples/notebooks/usda_naip_imagery.ipynb\" target=\"_parent\"><img src=\"https://colab.research.google.com/assets/colab-badge.svg\" alt=\"Open in Colab\"/></a>\n",
    "\n",
    "Uncomment the following line to install [geemap](https://geemap.org) if needed."
   ]
  },
  {
   "cell_type": "code",
   "execution_count": null,
   "metadata": {},
   "outputs": [],
   "source": [
    "# !pip install geemap"
   ]
  },
  {
   "cell_type": "code",
   "execution_count": 1,
   "metadata": {},
   "outputs": [],
   "source": [
    "# Installs geemap package\n",
    "import subprocess\n",
    "\n",
    "try:\n",
    "    import geemap\n",
    "except ImportError:\n",
    "    print('geemap package not installed. Installing ...')\n",
    "    subprocess.check_call([\"python\", '-m', 'pip', 'install', 'geemap'])"
   ]
  },
  {
   "cell_type": "code",
   "execution_count": null,
   "metadata": {},
   "outputs": [],
   "source": [
    "import ee"
   ]
  },
  {
   "cell_type": "code",
   "execution_count": 2,
   "metadata": {},
   "outputs": [
    {
     "data": {
      "application/vnd.jupyter.widget-view+json": {
       "model_id": "d27b9ed18bd64922ba5c208e64654329",
       "version_major": 2,
       "version_minor": 0
      },
      "text/plain": [
       "Map(center=[47.01, -99.0], controls=(ZoomControl(options=['position', 'zoom_in_text', 'zoom_in_title', 'zoom_o…"
      ]
     },
     "metadata": {},
     "output_type": "display_data"
    }
   ],
   "source": [
    "import geemap\n",
    "from ipyleaflet import *\n",
    "from ipywidgets import *\n",
    "from geemap.utils import *\n",
    "\n",
    "Map = geemap.Map(center=(-100, 40), zoom=4)\n",
    "Map.default_style = {'cursor': 'pointer'}\n",
    "Map\n",
    "\n",
    "Map.setOptions('ROADMAP')\n",
    "# Load National Hydrography Dataset (NHD) \n",
    "HUC10 = ee.FeatureCollection('USGS/WBD/2017/HUC10');  # 18,487 HUC10 watersheds in the U.S.\n",
    "\n",
    "# Add HUC layer to the map\n",
    "Map.setCenter(-99.00, 47.01, 8);\n",
    "Map.addLayer(ee.Image().paint(HUC10, 0, 1), {}, 'HUC-10 Watershed')   # HUC10 for the entire U.S.\n",
    "\n",
    "label = Label(\"Click on the map to select a watershed\")\n",
    "widget_control = WidgetControl(widget=label, position='bottomright')\n",
    "Map.add_control(widget_control)\n",
    "\n",
    "layer = None\n",
    "\n",
    "def handle_interaction(**kwargs):\n",
    "    latlon = kwargs.get('coordinates')\n",
    "    if kwargs.get('type') == 'click':\n",
    "        Map.default_style = {'cursor': 'wait'}\n",
    "        xy = ee.Geometry.Point(latlon[::-1])\n",
    "        watershed = HUC10.filterBounds(xy)\n",
    "        huc10_id = watershed.first().get('huc10').getInfo()\n",
    "        Map.layers = Map.layers[:3]\n",
    "        Map.addLayer(ee.Image().paint(watershed, 0, 2), {'palette': 'red'}, 'HUC ID: ' + huc10_id) \n",
    "        \n",
    "        NAIP_images = find_NAIP(watershed)\n",
    "        first_image = ee.Image(NAIP_images.toList(5).get(0))\n",
    "        Map.addLayer(first_image, {'bands': ['N', 'R', 'G']}, 'first image')\n",
    "        count = NAIP_images.size().getInfo()\n",
    "        for i in range(0, count):\n",
    "            image = ee.Image(NAIP_images.toList(count).get(i))\n",
    "            Map.addLayer(image, {'bands': ['N', 'R', 'G']}, str(i))\n",
    "        \n",
    "        Map.default_style = {'cursor': 'pointer'}\n",
    "\n",
    "Map.on_interaction(handle_interaction)\n",
    "\n",
    "Map"
   ]
  },
  {
   "cell_type": "code",
   "execution_count": null,
   "metadata": {},
   "outputs": [],
   "source": [
    "Map.layers"
   ]
  }
 ],
 "metadata": {
  "kernelspec": {
   "display_name": "Python 3",
   "language": "python",
   "name": "python3"
  },
  "language_info": {
   "codemirror_mode": {
    "name": "ipython",
    "version": 3
   },
   "file_extension": ".py",
   "mimetype": "text/x-python",
   "name": "python",
   "nbconvert_exporter": "python",
   "pygments_lexer": "ipython3",
   "version": "3.8.5"
  },
  "toc": {
   "base_numbering": 1,
   "nav_menu": {},
   "number_sections": true,
   "sideBar": true,
   "skip_h1_title": true,
   "title_cell": "Table of Contents",
   "title_sidebar": "Table of Contents",
   "toc_cell": false,
   "toc_position": {},
   "toc_section_display": true,
   "toc_window_display": true
  }
 },
 "nbformat": 4,
 "nbformat_minor": 4
}
